{
 "cells": [
  {
   "cell_type": "markdown",
   "id": "c0a94107",
   "metadata": {},
   "source": [
    "# Basic Array Operations"
   ]
  },
  {
   "cell_type": "code",
   "execution_count": null,
   "id": "db05db53",
   "metadata": {},
   "outputs": [],
   "source": [
    "import numpy as np\n",
    "\n",
    "# Create a numpy array\n",
    "A = np.array([1, 2, 3, 4, 5])\n",
    "\n",
    "# Perform an operation on the array\n",
    "B = A + 2\n",
    "print(B) # Output: array([ 3,  4, 5, 6, 7])\n"
   ]
  },
  {
   "cell_type": "code",
   "execution_count": null,
   "id": "08095230",
   "metadata": {},
   "outputs": [],
   "source": [
    "C = A - 2    #array([ -1,   0,  1,  2,  3])\n",
    "D = A * 2    #array([ 2,  4,  6,  8, 10])\n",
    "E = A / 2    #array([0.5, 1. , 1.5, 2. , 2.5])\n",
    "F = A % 2    #array([1, 0, 1, 0, 1])\n"
   ]
  },
  {
   "cell_type": "markdown",
   "id": "e10e5319",
   "metadata": {},
   "source": [
    "# Operations on Multiple Arrays"
   ]
  },
  {
   "cell_type": "code",
   "execution_count": null,
   "id": "06ba9c4c",
   "metadata": {},
   "outputs": [],
   "source": [
    "# Define two numpy arrays of the same shape\n",
    "A = np.array([1, 2, 3, 4, 5])\n",
    "B = np.array([6, 7, 8, 9, 10])\n",
    "\n",
    "# Carry out element-wise addition\n",
    "C = A + B\n",
    "print(C)    # Output: array([ 7,  9, 11, 13, 15])"
   ]
  },
  {
   "cell_type": "markdown",
   "id": "ecf1df0d",
   "metadata": {},
   "source": [
    "# Mathematical Functions"
   ]
  },
  {
   "cell_type": "code",
   "execution_count": null,
   "id": "e35bdf36",
   "metadata": {},
   "outputs": [],
   "source": [
    "# Define a numpy array\n",
    "A = np.array([0, np.pi/2, np.pi])\n",
    "\n",
    "print(np.sin(A))    #Output: array([ 0.0000000e+00,  1.0000000e+00,  1.2246468e-16])\n"
   ]
  },
  {
   "cell_type": "markdown",
   "id": "9024a9b2",
   "metadata": {},
   "source": [
    "# Aggregate Functions"
   ]
  },
  {
   "cell_type": "code",
   "execution_count": null,
   "id": "b8671ebc",
   "metadata": {},
   "outputs": [],
   "source": [
    "A = np.array([[1, 2, 3], [4, 5, 6]])\n",
    "\n",
    "# Compute the sum over all elements\n",
    "print(np.sum(A))              # Output: 21\n",
    "\n",
    "# Compute the sum along the first axis (rows)\n",
    "print(np.sum(A, axis=0))      # Output: array([5, 7, 9])\n",
    "\n",
    "# Compute the sum along the second axis (columns)\n",
    "print(np.sum(A, axis=1))      # Output: array([ 6, 15])\n"
   ]
  }
 ],
 "metadata": {
  "kernelspec": {
   "display_name": "fusion_env",
   "language": "python",
   "name": "fusion_env"
  },
  "language_info": {
   "codemirror_mode": {
    "name": "ipython",
    "version": 3
   },
   "file_extension": ".py",
   "mimetype": "text/x-python",
   "name": "python",
   "nbconvert_exporter": "python",
   "pygments_lexer": "ipython3",
   "version": "3.8.16"
  }
 },
 "nbformat": 4,
 "nbformat_minor": 5
}
