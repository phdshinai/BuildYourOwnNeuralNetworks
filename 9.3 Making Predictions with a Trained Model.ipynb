{
 "cells": [
  {
   "cell_type": "code",
   "execution_count": null,
   "id": "b75d25c4",
   "metadata": {},
   "outputs": [],
   "source": [
    "# Let's assume 'new_email' is the new email we got in the correct format\n",
    "new_email = preprocess(new_mail) \n",
    "new_email = torch.tensor(new_email)\n",
    "\n",
    "# Now, let's use our model for prediction. Remember, model here is your trained model\n",
    "model.eval() # Switch the model to evaluation mode\n",
    "with torch.no_grad(): # This means we're not calculating gradients and hence, not updating weights\n",
    "    prediction = model(new_email)\n",
    "\n",
    "# Interpreting the output\n",
    "if torch.sigmoid(prediction) > 0.5:\n",
    "    print(\"It's a spam email!\")\n",
    "else:\n",
    "    print(\"It's not a spam email!\")\n"
   ]
  }
 ],
 "metadata": {
  "kernelspec": {
   "display_name": "Python 3 (ipykernel)",
   "language": "python",
   "name": "python3"
  },
  "language_info": {
   "codemirror_mode": {
    "name": "ipython",
    "version": 3
   },
   "file_extension": ".py",
   "mimetype": "text/x-python",
   "name": "python",
   "nbconvert_exporter": "python",
   "pygments_lexer": "ipython3",
   "version": "3.8.16"
  }
 },
 "nbformat": 4,
 "nbformat_minor": 5
}
