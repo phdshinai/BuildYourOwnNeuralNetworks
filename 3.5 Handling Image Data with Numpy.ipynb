{
 "cells": [
  {
   "cell_type": "code",
   "execution_count": null,
   "id": "049e0217",
   "metadata": {},
   "outputs": [],
   "source": [
    "from PIL import Image\n",
    "import numpy as np\n",
    "\n",
    "# Load the image\n",
    "img = Image.open('image_file.png')\n",
    "\n",
    "# Convert the image to Grayscale\n",
    "img_gray = img.convert('L')\n",
    "\n",
    "# Convert the image data to a numpy array\n",
    "img_array = np.array(img_gray)\n"
   ]
  },
  {
   "cell_type": "code",
   "execution_count": null,
   "id": "5c96327b",
   "metadata": {},
   "outputs": [],
   "source": [
    "# Slicing to crop image:\n",
    "cropped_img_array = img_array[50:200, 50:200]\n",
    "\n",
    "# Arithmetic operation to reduce image brightness:\n",
    "darker_img_array = img_array / 2\n",
    "darker_img_array = darker_img_array.astype(np.uint8)\n"
   ]
  },
  {
   "cell_type": "code",
   "execution_count": null,
   "id": "c558839a",
   "metadata": {},
   "outputs": [],
   "source": [
    "# Load the image\n",
    "img = Image.open('color_image_file.png')\n",
    "\n",
    "# Convert the image data to a numpy array\n",
    "img_array = np.array(img)\n",
    "\n",
    "# Now, img_array is a 3D numpy array where the dimensions represent height, width, and a 3-color channel.\n"
   ]
  },
  {
   "cell_type": "code",
   "execution_count": null,
   "id": "6ab4b7e1",
   "metadata": {},
   "outputs": [],
   "source": [
    "# Split the color channels:\n",
    "red_channel, green_channel, blue_channel = img_array[:, :, 0], img_array[:, :, 1], img_array[:, :, 2]"
   ]
  },
  {
   "cell_type": "code",
   "execution_count": null,
   "id": "4476a73a",
   "metadata": {},
   "outputs": [],
   "source": [
    "# Normalize image array:\n",
    "img_array_normalized = img_array / 255.0\n"
   ]
  },
  {
   "cell_type": "code",
   "execution_count": null,
   "id": "dd6b99ea",
   "metadata": {},
   "outputs": [],
   "source": []
  },
  {
   "cell_type": "code",
   "execution_count": null,
   "id": "074c7086",
   "metadata": {},
   "outputs": [],
   "source": []
  },
  {
   "cell_type": "code",
   "execution_count": null,
   "id": "c1632351",
   "metadata": {},
   "outputs": [],
   "source": []
  },
  {
   "cell_type": "code",
   "execution_count": null,
   "id": "9b103981",
   "metadata": {},
   "outputs": [],
   "source": []
  }
 ],
 "metadata": {
  "kernelspec": {
   "display_name": "fusion_env",
   "language": "python",
   "name": "fusion_env"
  },
  "language_info": {
   "codemirror_mode": {
    "name": "ipython",
    "version": 3
   },
   "file_extension": ".py",
   "mimetype": "text/x-python",
   "name": "python",
   "nbconvert_exporter": "python",
   "pygments_lexer": "ipython3",
   "version": "3.8.16"
  }
 },
 "nbformat": 4,
 "nbformat_minor": 5
}
