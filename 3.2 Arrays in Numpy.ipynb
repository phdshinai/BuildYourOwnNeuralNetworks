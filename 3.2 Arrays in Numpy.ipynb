{
 "cells": [
  {
   "cell_type": "code",
   "execution_count": null,
   "id": "6b23c133",
   "metadata": {},
   "outputs": [],
   "source": [
    "import numpy as np\n",
    "a = np.array([[ 0, 1, 2], [ 3, 4, 5]])"
   ]
  },
  {
   "cell_type": "code",
   "execution_count": null,
   "id": "5bacbdb0",
   "metadata": {},
   "outputs": [],
   "source": [
    "np.zeros((3, 4))"
   ]
  },
  {
   "cell_type": "code",
   "execution_count": null,
   "id": "07421a0c",
   "metadata": {},
   "outputs": [],
   "source": [
    "np.ones((2, 3))"
   ]
  },
  {
   "cell_type": "code",
   "execution_count": null,
   "id": "bda6a4ae",
   "metadata": {},
   "outputs": [],
   "source": [
    "np.empty((3, 2))"
   ]
  },
  {
   "cell_type": "code",
   "execution_count": null,
   "id": "732db283",
   "metadata": {},
   "outputs": [],
   "source": [
    "np.arange(0, 5, 1)  # arguments: start, stop, step"
   ]
  },
  {
   "cell_type": "code",
   "execution_count": null,
   "id": "748e6fad",
   "metadata": {},
   "outputs": [],
   "source": [
    "import numpy as np\n",
    "x1=1\n",
    "x2=2\n",
    "w1=3\n",
    "w2=4\n",
    "inputs = np.array([x1, x2])\n",
    "weights = np.array([w1, w2])\n",
    "output = np.matmul(inputs, weights)\n",
    "print(output)"
   ]
  }
 ],
 "metadata": {
  "kernelspec": {
   "display_name": "fusion_env",
   "language": "python",
   "name": "fusion_env"
  },
  "language_info": {
   "codemirror_mode": {
    "name": "ipython",
    "version": 3
   },
   "file_extension": ".py",
   "mimetype": "text/x-python",
   "name": "python",
   "nbconvert_exporter": "python",
   "pygments_lexer": "ipython3",
   "version": "3.8.16"
  }
 },
 "nbformat": 4,
 "nbformat_minor": 5
}
