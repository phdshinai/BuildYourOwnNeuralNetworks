{
 "cells": [
  {
   "cell_type": "code",
   "execution_count": 1,
   "id": "94b5a8fd",
   "metadata": {},
   "outputs": [],
   "source": [
    "import torch\n",
    "import torch.nn as nn"
   ]
  },
  {
   "cell_type": "code",
   "execution_count": 2,
   "id": "7fca738e",
   "metadata": {},
   "outputs": [],
   "source": [
    "input_dim = 5\n",
    "hidden_dim = 10\n",
    "n_layers = 1\n",
    "\n",
    "lstm_layer = nn.LSTM(input_dim, hidden_dim, n_layers)  \n"
   ]
  },
  {
   "cell_type": "code",
   "execution_count": 3,
   "id": "4baf7b4b",
   "metadata": {},
   "outputs": [],
   "source": [
    "# Initialize the hidden state\n",
    "# Shape: (num_layers, batch_size, hidden_dim)\n",
    "h0 = torch.zeros(n_layers, 1, hidden_dim)\n",
    "c0 = torch.zeros(n_layers, 1, hidden_dim)\n",
    "\n",
    "# Sequence of length 10, of size 1 (batch size), each containing 5 features\n",
    "seq = torch.randn(10, 1, 5)\n",
    "\n",
    "# Forward pass\n",
    "out, hidden = lstm_layer(seq, (h0, c0))\n"
   ]
  },
  {
   "cell_type": "code",
   "execution_count": null,
   "id": "b98dd401",
   "metadata": {},
   "outputs": [],
   "source": []
  }
 ],
 "metadata": {
  "kernelspec": {
   "display_name": "Python 3 (ipykernel)",
   "language": "python",
   "name": "python3"
  },
  "language_info": {
   "codemirror_mode": {
    "name": "ipython",
    "version": 3
   },
   "file_extension": ".py",
   "mimetype": "text/x-python",
   "name": "python",
   "nbconvert_exporter": "python",
   "pygments_lexer": "ipython3",
   "version": "3.8.16"
  }
 },
 "nbformat": 4,
 "nbformat_minor": 5
}
