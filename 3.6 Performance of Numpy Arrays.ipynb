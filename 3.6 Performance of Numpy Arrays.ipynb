{
 "cells": [
  {
   "cell_type": "markdown",
   "id": "3dc60f9d",
   "metadata": {},
   "source": [
    "# Why Numpy Arrays are Superior"
   ]
  },
  {
   "cell_type": "code",
   "execution_count": null,
   "id": "5ad1e452",
   "metadata": {},
   "outputs": [],
   "source": [
    "import numpy as np\n",
    "import time\n",
    "\n",
    "# How to create a python list and a numpy array\n",
    "py_list = list(range(1000000))\n",
    "np_array = np.array(range(1000000))\n",
    "\n",
    "# Multiplying elements in python list by 2\n",
    "start_time = time.time() \n",
    "list_mult = [2 * i for i in py_list]\n",
    "end_time = time.time()\n",
    "print(\"Time taken by Python list: \", end_time - start_time)\n",
    "\n",
    "# Multiplying elements in numpy array by 2\n",
    "start_time = time.time()\n",
    "array_mult = np_array * 2\n",
    "end_time = time.time()\n",
    "print(\"Time taken by Numpy array: \", end_time - start_time)\n"
   ]
  },
  {
   "cell_type": "markdown",
   "id": "f5234700",
   "metadata": {},
   "source": [
    "# Numpy Broadcasting"
   ]
  },
  {
   "cell_type": "code",
   "execution_count": null,
   "id": "bc521a78",
   "metadata": {},
   "outputs": [],
   "source": [
    "import numpy as np\n",
    "\n",
    "# define two arrays with different shapes\n",
    "a = np.array([1, 2, 3])\n",
    "b = np.array([[0, 1, 2], [3, 4, 5], [6, 7, 8]])\n",
    "\n",
    "# apply broadcasting\n",
    "c = a + b\n",
    "print(c)\n"
   ]
  },
  {
   "cell_type": "code",
   "execution_count": null,
   "id": "98ff5b0d",
   "metadata": {},
   "outputs": [],
   "source": []
  },
  {
   "cell_type": "code",
   "execution_count": null,
   "id": "68642ff0",
   "metadata": {},
   "outputs": [],
   "source": []
  },
  {
   "cell_type": "code",
   "execution_count": null,
   "id": "5454edee",
   "metadata": {},
   "outputs": [],
   "source": []
  },
  {
   "cell_type": "code",
   "execution_count": null,
   "id": "ea596109",
   "metadata": {},
   "outputs": [],
   "source": []
  },
  {
   "cell_type": "code",
   "execution_count": null,
   "id": "e6ba8f16",
   "metadata": {},
   "outputs": [],
   "source": []
  },
  {
   "cell_type": "code",
   "execution_count": null,
   "id": "24b92ad6",
   "metadata": {},
   "outputs": [],
   "source": []
  }
 ],
 "metadata": {
  "kernelspec": {
   "display_name": "fusion_env",
   "language": "python",
   "name": "fusion_env"
  },
  "language_info": {
   "codemirror_mode": {
    "name": "ipython",
    "version": 3
   },
   "file_extension": ".py",
   "mimetype": "text/x-python",
   "name": "python",
   "nbconvert_exporter": "python",
   "pygments_lexer": "ipython3",
   "version": "3.8.16"
  }
 },
 "nbformat": 4,
 "nbformat_minor": 5
}
