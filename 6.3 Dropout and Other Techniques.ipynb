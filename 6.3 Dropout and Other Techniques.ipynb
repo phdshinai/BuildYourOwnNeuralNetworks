{
 "cells": [
  {
   "cell_type": "code",
   "execution_count": null,
   "id": "11ddfd65",
   "metadata": {},
   "outputs": [],
   "source": [
    "## Importing the necessary libraries\n",
    "import torch.nn as nn\n",
    "\n",
    "## Defining a simple neural network with dropout\n",
    "class DropoutNetwork(nn.Module):\n",
    "    def __init__(self):\n",
    "        super(DropoutNetwork, self).__init__()\n",
    "        self.layer1 = nn.Linear(10, 20)\n",
    "        self.layer2 = nn.Linear(20, 20)\n",
    "        self.layer3 = nn.Linear(20, 4)\n",
    "        self.dropout = nn.Dropout(0.5)  ## Defining the dropout layer\n",
    "\n",
    "    def forward(self, x):\n",
    "        x = F.relu(self.layer1(x))\n",
    "        x = self.dropout(x)  ## Implementing dropout after the first layer\n",
    "        x = F.relu(self.layer2(x))\n",
    "        x = self.dropout(x)  ## Implementing dropout after the second layer\n",
    "        x = self.layer3(x)\n",
    "        return x\n"
   ]
  }
 ],
 "metadata": {
  "kernelspec": {
   "display_name": "fusion_env",
   "language": "python",
   "name": "fusion_env"
  },
  "language_info": {
   "codemirror_mode": {
    "name": "ipython",
    "version": 3
   },
   "file_extension": ".py",
   "mimetype": "text/x-python",
   "name": "python",
   "nbconvert_exporter": "python",
   "pygments_lexer": "ipython3",
   "version": "3.8.16"
  }
 },
 "nbformat": 4,
 "nbformat_minor": 5
}
