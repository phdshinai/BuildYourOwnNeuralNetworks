{
 "cells": [
  {
   "cell_type": "code",
   "execution_count": null,
   "id": "8096c6d1",
   "metadata": {},
   "outputs": [],
   "source": [
    "from sklearn.linear_model import Lasso\n",
    "model = Lasso(alpha=0.1)\n",
    "model.fit(X_train, y_train)\n"
   ]
  },
  {
   "cell_type": "code",
   "execution_count": null,
   "id": "86efd716",
   "metadata": {},
   "outputs": [],
   "source": [
    "from sklearn.linear_model import Ridge\n",
    "model = Ridge(alpha=0.1)\n",
    "model.fit(X_train, y_train)\n"
   ]
  },
  {
   "cell_type": "code",
   "execution_count": null,
   "id": "e1e9b2a0",
   "metadata": {},
   "outputs": [],
   "source": [
    "\n",
    "\n",
    "import torch \n",
    "from torch.autograd import Variable\n",
    "\n",
    "# init drop probability and layer size\n",
    "p, n_input = 0.5, 20\n",
    "\n",
    "# dropout layer\n",
    "dropout = torch.nn.Dropout(p = p)\n",
    "\n",
    "# input layer\n",
    "torch_layer = torch.nn.Linear(n_input, 50)\n",
    "\n",
    "inputs = Variable(torch.randn(10, n_input))\n",
    "\n",
    "# apply layer\n",
    "outputs = dropout(torch_layer(inputs))\n"
   ]
  },
  {
   "cell_type": "code",
   "execution_count": null,
   "id": "d33b2d4c",
   "metadata": {},
   "outputs": [],
   "source": []
  },
  {
   "cell_type": "code",
   "execution_count": null,
   "id": "6225fc9b",
   "metadata": {},
   "outputs": [],
   "source": []
  }
 ],
 "metadata": {
  "kernelspec": {
   "display_name": "fusion_env",
   "language": "python",
   "name": "fusion_env"
  },
  "language_info": {
   "codemirror_mode": {
    "name": "ipython",
    "version": 3
   },
   "file_extension": ".py",
   "mimetype": "text/x-python",
   "name": "python",
   "nbconvert_exporter": "python",
   "pygments_lexer": "ipython3",
   "version": "3.8.16"
  }
 },
 "nbformat": 4,
 "nbformat_minor": 5
}
