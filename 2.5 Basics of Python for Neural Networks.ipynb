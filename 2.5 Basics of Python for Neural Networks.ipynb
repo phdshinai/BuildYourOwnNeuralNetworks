{
 "cells": [
  {
   "cell_type": "markdown",
   "id": "8c204369",
   "metadata": {},
   "source": [
    "# Variables, Data Types, and Operators"
   ]
  },
  {
   "cell_type": "code",
   "execution_count": 1,
   "id": "c638a8bb",
   "metadata": {},
   "outputs": [],
   "source": [
    "# integer variable \n",
    "a = 10\n",
    "# string variable\n",
    "b = \"Neural Networks\"\n",
    "# float variable\n",
    "c = 3.14 \n",
    "# list variable \n",
    "d = [1,2,3,4,5]\n",
    "# dictionary variable\n",
    "e = {'AI': 'Artificial Intelligence', 'NN': 'Neural Networks'}"
   ]
  },
  {
   "cell_type": "markdown",
   "id": "f7cff9f5",
   "metadata": {},
   "source": [
    "# Loops and Control Structures"
   ]
  },
  {
   "cell_type": "code",
   "execution_count": 3,
   "id": "f4f07dbc",
   "metadata": {},
   "outputs": [
    {
     "name": "stdout",
     "output_type": "stream",
     "text": [
      "Positive number\n"
     ]
    }
   ],
   "source": [
    "# if-else\n",
    "a = 5\n",
    "if a>0:\n",
    "    print(\"Positive number\")\n",
    "else:\n",
    "    print(\"Negative number\")"
   ]
  },
  {
   "cell_type": "code",
   "execution_count": 4,
   "id": "587aaa2a",
   "metadata": {},
   "outputs": [
    {
     "name": "stdout",
     "output_type": "stream",
     "text": [
      "0\n",
      "1\n",
      "2\n",
      "3\n",
      "4\n"
     ]
    }
   ],
   "source": [
    "# for loop\n",
    "for i in range(5):\n",
    "    print(i)"
   ]
  },
  {
   "cell_type": "code",
   "execution_count": 5,
   "id": "13223f33",
   "metadata": {},
   "outputs": [
    {
     "name": "stdout",
     "output_type": "stream",
     "text": [
      "5\n",
      "4\n",
      "3\n",
      "2\n",
      "1\n"
     ]
    }
   ],
   "source": [
    "# while loop\n",
    "a = 5\n",
    "while a > 0:\n",
    "    print(a)\n",
    "    a -= 1"
   ]
  },
  {
   "cell_type": "markdown",
   "id": "0d7c3954",
   "metadata": {},
   "source": [
    "# Functions"
   ]
  },
  {
   "cell_type": "code",
   "execution_count": 1,
   "id": "3cfae353",
   "metadata": {},
   "outputs": [],
   "source": [
    "#Function to find the square of a number \n",
    "def square(x):\n",
    "    return x*x\n"
   ]
  },
  {
   "cell_type": "code",
   "execution_count": 6,
   "id": "2304fd1e",
   "metadata": {},
   "outputs": [
    {
     "name": "stdout",
     "output_type": "stream",
     "text": [
      "[1 2 3 4 5]\n"
     ]
    }
   ],
   "source": [
    "import numpy as np\n",
    "numpy_array = np.array([1,2,3,4,5])\n",
    "print(numpy_array)"
   ]
  },
  {
   "cell_type": "code",
   "execution_count": 9,
   "id": "fd94ada7",
   "metadata": {},
   "outputs": [
    {
     "name": "stdout",
     "output_type": "stream",
     "text": [
      "11\n"
     ]
    }
   ],
   "source": [
    "import numpy as np\n",
    "x1=1\n",
    "x2=2\n",
    "w1=3\n",
    "w2=4\n",
    "inputs = np.array([x1, x2])\n",
    "weights = np.array([w1, w2])\n",
    "output = np.matmul(inputs, weights)\n",
    "print(output)"
   ]
  },
  {
   "cell_type": "code",
   "execution_count": 10,
   "id": "7f42a8e5",
   "metadata": {},
   "outputs": [
    {
     "name": "stdout",
     "output_type": "stream",
     "text": [
      "[3 4 5 6 7]\n"
     ]
    }
   ],
   "source": [
    "import numpy as np\n",
    "\n",
    "# Create a numpy array\n",
    "A = np.array([1, 2, 3, 4, 5])\n",
    "\n",
    "# Perform an operation on the array\n",
    "B = A + 2\n",
    "print(B)"
   ]
  },
  {
   "cell_type": "code",
   "execution_count": 11,
   "id": "9687b0e1",
   "metadata": {},
   "outputs": [
    {
     "name": "stdout",
     "output_type": "stream",
     "text": [
      "21\n",
      "[5 7 9]\n",
      "[ 6 15]\n"
     ]
    }
   ],
   "source": [
    "A = np.array([[1, 2, 3], [4, 5, 6]])\n",
    "\n",
    "# Compute the sum over all elements\n",
    "print(np.sum(A))              # Output: 21\n",
    "\n",
    "# Compute the sum along the first axis (rows)\n",
    "print(np.sum(A, axis=0))      # Output: array([5, 7, 9])\n",
    "\n",
    "# Compute the sum along the second axis (columns)\n",
    "print(np.sum(A, axis=1))      # Output: array([ 6, 15])\n",
    "\n"
   ]
  },
  {
   "cell_type": "code",
   "execution_count": 12,
   "id": "eee8e55a",
   "metadata": {},
   "outputs": [
    {
     "name": "stdout",
     "output_type": "stream",
     "text": [
      "32\n"
     ]
    }
   ],
   "source": [
    "# Create two 1D arrays\n",
    "a = np.array([1, 2, 3])\n",
    "b = np.array([4, 5, 6])\n",
    "\n",
    "# Perform dot product\n",
    "dot_product = np.dot(a, b)\n",
    "print(dot_product)  # Output: 32\n"
   ]
  },
  {
   "cell_type": "code",
   "execution_count": 13,
   "id": "07d7b08d",
   "metadata": {},
   "outputs": [
    {
     "name": "stdout",
     "output_type": "stream",
     "text": [
      "[ 2.71828183  7.3890561  20.08553692]\n"
     ]
    }
   ],
   "source": [
    "a = np.array([1, 2, 3])\n",
    "\n",
    "# Apply the exponential function\n",
    "exp_a = np.exp(a)\n",
    "\n",
    "print(exp_a)  # Output: [ 2.71828183  7.3890561  20.08553692]\n"
   ]
  },
  {
   "cell_type": "code",
   "execution_count": 14,
   "id": "ec4116b6",
   "metadata": {},
   "outputs": [
    {
     "name": "stdout",
     "output_type": "stream",
     "text": [
      "[0.45016624 0.47272764 0.89726138]\n"
     ]
    }
   ],
   "source": [
    "# Generate a 1D array of random numbers\n",
    "random_array = np.random.rand(3)\n",
    "\n",
    "print(random_array)  # Output: [0.42057158 0.70547945 0.1818582 ]\n"
   ]
  },
  {
   "cell_type": "code",
   "execution_count": 15,
   "id": "299e0382",
   "metadata": {},
   "outputs": [
    {
     "name": "stdout",
     "output_type": "stream",
     "text": [
      "Time taken by Python list:  0.043999433517456055\n",
      "Time taken by Numpy array:  0.0010004043579101562\n"
     ]
    }
   ],
   "source": [
    "import numpy as np\n",
    "import time\n",
    "\n",
    "# How to create a python list and a numpy array\n",
    "py_list = list(range(1000000))\n",
    "np_array = np.array(range(1000000))\n",
    "\n",
    "# Multiplying elements in python list by 2\n",
    "start_time = time.time() \n",
    "list_mult = [2 * i for i in py_list]\n",
    "end_time = time.time()\n",
    "print(\"Time taken by Python list: \", end_time - start_time)\n",
    "\n",
    "# Multiplying elements in numpy array by 2\n",
    "start_time = time.time()\n",
    "array_mult = np_array * 2\n",
    "end_time = time.time()\n",
    "print(\"Time taken by Numpy array: \", end_time - start_time)\n"
   ]
  },
  {
   "cell_type": "code",
   "execution_count": 16,
   "id": "800d5b06",
   "metadata": {},
   "outputs": [
    {
     "name": "stdout",
     "output_type": "stream",
     "text": [
      "[[ 1  3  5]\n",
      " [ 4  6  8]\n",
      " [ 7  9 11]]\n"
     ]
    }
   ],
   "source": [
    "import numpy as np\n",
    "\n",
    "# define two arrays with different shapes\n",
    "a = np.array([1, 2, 3])\n",
    "b = np.array([[0, 1, 2], [3, 4, 5], [6, 7, 8]])\n",
    "\n",
    "# apply broadcasting\n",
    "c = a + b\n",
    "print(c)\n"
   ]
  },
  {
   "cell_type": "code",
   "execution_count": null,
   "id": "2088003c",
   "metadata": {},
   "outputs": [],
   "source": []
  }
 ],
 "metadata": {
  "kernelspec": {
   "display_name": "fusion_env",
   "language": "python",
   "name": "fusion_env"
  },
  "language_info": {
   "codemirror_mode": {
    "name": "ipython",
    "version": 3
   },
   "file_extension": ".py",
   "mimetype": "text/x-python",
   "name": "python",
   "nbconvert_exporter": "python",
   "pygments_lexer": "ipython3",
   "version": "3.8.16"
  }
 },
 "nbformat": 4,
 "nbformat_minor": 5
}
