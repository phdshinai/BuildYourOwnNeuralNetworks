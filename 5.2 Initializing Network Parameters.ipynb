{
 "cells": [
  {
   "cell_type": "code",
   "execution_count": null,
   "id": "8711d9a4",
   "metadata": {},
   "outputs": [],
   "source": [
    "# Xavier Initialization\n",
    "import torch\n",
    "from torch import nn\n",
    "from torch.nn.init import xavier_uniform_\n",
    "\n",
    "    class NeuralNet(nn.Module):\n",
    "        def __init__(self):\n",
    "            super(NeuralNet, self).__init__()\n",
    "            self.layer1 = nn.Linear(2, 3) \n",
    "            self.layer2 = nn.Linear(3, 1) \n",
    "            xavier_uniform_(self.layer1.weight)\n",
    "            xavier_uniform_(self.layer2.weight)\n"
   ]
  },
  {
   "cell_type": "code",
   "execution_count": null,
   "id": "775a7eff",
   "metadata": {},
   "outputs": [],
   "source": [
    "# He Initialization\n",
    "import torch\n",
    "from torch import nn\n",
    "from torch.nn.init import kaiming_uniform_\n",
    "\n",
    "class NeuralNetHeUniform(nn.Module):\n",
    "    def __init__(self):\n",
    "        super(NeuralNetHeUniform, self).__init__()\n",
    "        self.layer1 = nn.Linear(2, 3)\n",
    "        self.layer2 = nn.Linear(3, 1)\n",
    "        kaiming_uniform_(self.layer1.weight, nonlinearity='relu')\n",
    "        kaiming_uniform_(self.layer2.weight, nonlinearity='relu')   \n"
   ]
  },
  {
   "cell_type": "code",
   "execution_count": null,
   "id": "c79a292f",
   "metadata": {},
   "outputs": [],
   "source": [
    "# Uniform Distribution Initialization\n",
    "import torch\n",
    "from torch import nn\n",
    "\n",
    "class NeuralNetUniform(nn.Module):\n",
    "    def __init__(self):\n",
    "        super(NeuralNetUniform, self).__init__()\n",
    "        self.layer1 = nn.Linear(2, 3)\n",
    "        self.layer2 = nn.Linear(3, 1)\n",
    "        nn.init.uniform_(self.layer1.weight, a=-0.5, b=0.5)\n",
    "        nn.init.uniform_(self.layer2.weight, a=-0.5, b=0.5)\n"
   ]
  },
  {
   "cell_type": "code",
   "execution_count": null,
   "id": "d12713a1",
   "metadata": {},
   "outputs": [],
   "source": [
    "# Normal Distribution Initialization    \n",
    "import torch\n",
    "from torch import nn\n",
    "\n",
    "class NeuralNetNormal(nn.Module):\n",
    "    def __init__(self):\n",
    "        super(NeuralNetNormal, self).__init__()\n",
    "        self.layer1 = nn.Linear(2, 3)\n",
    "        self.layer2 = nn.Linear(3, 1)\n",
    "        nn.init.normal_(self.layer1.weight, mean=0.0, std=1.0)\n",
    "        nn.init.normal_(self.layer2.weight, mean=0.0, std=1.0)"
   ]
  }
 ],
 "metadata": {
  "kernelspec": {
   "display_name": "fusion_env",
   "language": "python",
   "name": "fusion_env"
  },
  "language_info": {
   "codemirror_mode": {
    "name": "ipython",
    "version": 3
   },
   "file_extension": ".py",
   "mimetype": "text/x-python",
   "name": "python",
   "nbconvert_exporter": "python",
   "pygments_lexer": "ipython3",
   "version": "3.8.16"
  }
 },
 "nbformat": 4,
 "nbformat_minor": 5
}
