{
 "cells": [
  {
   "cell_type": "markdown",
   "id": "03fe1cf4",
   "metadata": {},
   "source": [
    "# The `numpy.dot()` Function"
   ]
  },
  {
   "cell_type": "code",
   "execution_count": null,
   "id": "195c5ab4",
   "metadata": {},
   "outputs": [],
   "source": [
    "# Create two 1D arrays\n",
    "a = np.array([1, 2, 3])\n",
    "b = np.array([4, 5, 6])\n",
    "\n",
    "# Perform dot product\n",
    "dot_product = np.dot(a, b)\n",
    "print(dot_product)  # Output: 32\n"
   ]
  },
  {
   "cell_type": "markdown",
   "id": "0fa751ac",
   "metadata": {},
   "source": [
    "# The `numpy.exp()` Function"
   ]
  },
  {
   "cell_type": "code",
   "execution_count": null,
   "id": "80b3cf68",
   "metadata": {},
   "outputs": [],
   "source": [
    "a = np.array([1, 2, 3])\n",
    "\n",
    "# Apply the exponential function\n",
    "exp_a = np.exp(a)\n",
    "\n",
    "print(exp_a)  # Output: [ 2.71828183  7.3890561  20.08553692]"
   ]
  },
  {
   "cell_type": "markdown",
   "id": "085849e0",
   "metadata": {},
   "source": [
    "# The `numpy.random.rand()` Function"
   ]
  },
  {
   "cell_type": "code",
   "execution_count": null,
   "id": "e8b97c03",
   "metadata": {},
   "outputs": [],
   "source": [
    "# Generate a 1D array of random numbers\n",
    "random_array = np.random.rand(3)\n",
    "\n",
    "print(random_array)  # Output: [0.42057158 0.70547945 0.1818582 ]\n"
   ]
  },
  {
   "cell_type": "code",
   "execution_count": null,
   "id": "05da8171",
   "metadata": {},
   "outputs": [],
   "source": []
  },
  {
   "cell_type": "code",
   "execution_count": null,
   "id": "3ae73dd9",
   "metadata": {},
   "outputs": [],
   "source": []
  },
  {
   "cell_type": "code",
   "execution_count": null,
   "id": "c0dbcfa5",
   "metadata": {},
   "outputs": [],
   "source": []
  }
 ],
 "metadata": {
  "kernelspec": {
   "display_name": "fusion_env",
   "language": "python",
   "name": "fusion_env"
  },
  "language_info": {
   "codemirror_mode": {
    "name": "ipython",
    "version": 3
   },
   "file_extension": ".py",
   "mimetype": "text/x-python",
   "name": "python",
   "nbconvert_exporter": "python",
   "pygments_lexer": "ipython3",
   "version": "3.8.16"
  }
 },
 "nbformat": 4,
 "nbformat_minor": 5
}
