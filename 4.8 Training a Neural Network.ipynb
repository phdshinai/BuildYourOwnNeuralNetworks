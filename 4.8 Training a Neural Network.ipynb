{
 "cells": [
  {
   "cell_type": "code",
   "execution_count": 1,
   "id": "efe54310",
   "metadata": {},
   "outputs": [],
   "source": [
    "import numpy as np"
   ]
  },
  {
   "cell_type": "code",
   "execution_count": 8,
   "id": "c53ed654",
   "metadata": {},
   "outputs": [],
   "source": [
    "class MLP:\n",
    "    def __init__(self, input_size, hidden_size, output_size):\n",
    "        self.input_size = input_size\n",
    "        self.hidden_size = hidden_size\n",
    "        self.output_size = output_size\n",
    "\n",
    "        # Initializing weights\n",
    "        # self.w1_2_3_4 = np.random.random((self.input_size, self.hidden_size))\n",
    "        self.w1_2_3_4 = [[1, 10],[1, 10]]\n",
    "        # self.w5_6 = np.random.random((self.hidden_size, self.output_size))\n",
    "        self.w5_6 = [[-40], [40]]\n",
    "\n",
    "    def sigmoid(self, x):\n",
    "        return 1 / (1 + np.exp(-x))\n",
    "\n",
    "    def forward(self, X):\n",
    "        # Propagate inputs through the network\n",
    "        self.z1_2 = np.dot(X, self.w1_2_3_4)        # 1 x 2\n",
    "        self.h = self.sigmoid(self.z1_2)            # 1 x 2\n",
    "        self.z3 = np.dot(self.h, self.w5_6)         # 1 x 1\n",
    "        self.o = self.sigmoid(self.z3)              # 1 x 1\n",
    "        return self.o\n",
    "\n",
    "    def mse_loss(self, y_true, y_pred):\n",
    "        # MSE loss\n",
    "        return np.mean((y_true - y_pred) ** 2)\n",
    "\n",
    "    def backward(self, X, y, y_pred, learning_rate):\n",
    "        # chain rule\n",
    "        dc_do1 = -2 * (y - y_pred)\n",
    "        do1_dz3 = y_pred * (1 - y_pred)\n",
    "        dz3_dw5_6 = self.h\n",
    "        dc_dw5_6 = dc_do1 * do1_dz3 * dz3_dw5_6         # 1 x 2\n",
    "        self.w5_6 = self.w5_6 + learning_rate * -dc_dw5_6.T # 2 x 1\n",
    "        dc_dw1_2_3_4 = dc_do1 * do1_dz3 * np.dot(self.w5_6 * (self.h * (1 - self.h)).T,X)\n",
    "\n",
    "        self.w1_2_3_4 = self.w1_2_3_4 + learning_rate * -dc_dw1_2_3_4.T\n",
    "\n",
    "    def train(self, X_train, y_train, epochs, learning_rate):\n",
    "        # for epoch in range(epochs):\n",
    "        for epoch in range(epochs):\n",
    "            for i in range(len(X_train)):\n",
    "                # Forward pass\n",
    "                y_pred = self.forward([X_train[i]])\n",
    "                # Compute and print loss\n",
    "                loss = self.mse_loss([y_train[i]], y_pred)\n",
    "                # Backward pass\n",
    "                self.backward([X_train[i]], [y_train[i]], y_pred, learning_rate)\n",
    "            if np.mod(epoch,100)==0:\n",
    "                print('epoch=',epoch, 'loss=',loss)"
   ]
  },
  {
   "cell_type": "code",
   "execution_count": 2,
   "id": "11f74a24",
   "metadata": {},
   "outputs": [],
   "source": [
    "# Data Generation\n",
    "X_train = np.random.randint(0, 2, (100,2))\n",
    "y_train = (X_train[:,0]!=X_train[:,1]).astype(int)"
   ]
  },
  {
   "cell_type": "code",
   "execution_count": 5,
   "id": "9d9f06f4",
   "metadata": {},
   "outputs": [
    {
     "data": {
      "text/plain": [
       "array([0, 0])"
      ]
     },
     "execution_count": 5,
     "metadata": {},
     "output_type": "execute_result"
    }
   ],
   "source": [
    "X_train[1]"
   ]
  },
  {
   "cell_type": "code",
   "execution_count": 6,
   "id": "b3d6b9b6",
   "metadata": {},
   "outputs": [
    {
     "data": {
      "text/plain": [
       "0"
      ]
     },
     "execution_count": 6,
     "metadata": {},
     "output_type": "execute_result"
    }
   ],
   "source": [
    "y_train[1]"
   ]
  },
  {
   "cell_type": "code",
   "execution_count": 9,
   "id": "6d224c20",
   "metadata": {},
   "outputs": [],
   "source": [
    "mlp = MLP(input_size=2, hidden_size=2, output_size=1)"
   ]
  },
  {
   "cell_type": "code",
   "execution_count": 10,
   "id": "c722a8a9",
   "metadata": {},
   "outputs": [
    {
     "name": "stdout",
     "output_type": "stream",
     "text": [
      "epoch= 0 loss= 9.31341347885779e-06\n",
      "epoch= 100 loss= 0.0008112620699512502\n",
      "epoch= 200 loss= 0.0007272852413584552\n",
      "epoch= 300 loss= 0.0007022283058618446\n",
      "epoch= 400 loss= 0.0006910202559692084\n",
      "epoch= 500 loss= 0.0006844206289513337\n",
      "epoch= 600 loss= 0.0006794681182430631\n",
      "epoch= 700 loss= 0.0006750247749540448\n",
      "epoch= 800 loss= 0.0006706245447735783\n",
      "epoch= 900 loss= 0.0006660830809736016\n"
     ]
    }
   ],
   "source": [
    "# training\n",
    "mlp.train(X_train, y_train, epochs=1000, learning_rate=0.1)"
   ]
  },
  {
   "cell_type": "code",
   "execution_count": 11,
   "id": "ab7e14d5",
   "metadata": {},
   "outputs": [
    {
     "name": "stdout",
     "output_type": "stream",
     "text": [
      "Predicted Output: [[0 0]] [[0.01250288]]\n",
      "Predicted Output: [[1 0]] [[0.96881318]]\n",
      "Predicted Output: [[0 1]] [[0.97454612]]\n",
      "Predicted Output: [[1 1]] [[0.03978315]]\n"
     ]
    }
   ],
   "source": [
    "# prediction\n",
    "test_input = np.array([[0, 0]])\n",
    "predicted_output = mlp.forward(test_input)\n",
    "print(\"Predicted Output:\", test_input, predicted_output)\n",
    "test_input = np.array([[1, 0]])\n",
    "predicted_output = mlp.forward(test_input)\n",
    "print(\"Predicted Output:\", test_input, predicted_output)\n",
    "test_input = np.array([[0, 1]])\n",
    "predicted_output = mlp.forward(test_input)\n",
    "print(\"Predicted Output:\", test_input, predicted_output)\n",
    "test_input = np.array([[1, 1]])\n",
    "predicted_output = mlp.forward(test_input)\n",
    "print(\"Predicted Output:\", test_input, predicted_output)"
   ]
  },
  {
   "cell_type": "code",
   "execution_count": null,
   "id": "12395a5f",
   "metadata": {},
   "outputs": [],
   "source": []
  }
 ],
 "metadata": {
  "kernelspec": {
   "display_name": "Python 3 (ipykernel)",
   "language": "python",
   "name": "python3"
  },
  "language_info": {
   "codemirror_mode": {
    "name": "ipython",
    "version": 3
   },
   "file_extension": ".py",
   "mimetype": "text/x-python",
   "name": "python",
   "nbconvert_exporter": "python",
   "pygments_lexer": "ipython3",
   "version": "3.8.16"
  }
 },
 "nbformat": 4,
 "nbformat_minor": 5
}
