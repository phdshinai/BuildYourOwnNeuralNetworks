{
 "cells": [
  {
   "cell_type": "code",
   "execution_count": null,
   "id": "c77f265a",
   "metadata": {},
   "outputs": [],
   "source": [
    "# Initialize the RNN with gradient clipping\n",
    "rnn = nn.RNN(input_size=10, hidden_size=20, num_layers=2)\n",
    "torch.nn.utils.clip_grad_norm_(rnn.parameters(), max_norm=1)\n",
    "\n",
    "# Implement dropout for regularization\n",
    "rnn_dropout = nn.RNN(input_size=10, hidden_size=20, num_layers=2, dropout=0.5)\n"
   ]
  }
 ],
 "metadata": {
  "kernelspec": {
   "display_name": "Python 3 (ipykernel)",
   "language": "python",
   "name": "python3"
  },
  "language_info": {
   "codemirror_mode": {
    "name": "ipython",
    "version": 3
   },
   "file_extension": ".py",
   "mimetype": "text/x-python",
   "name": "python",
   "nbconvert_exporter": "python",
   "pygments_lexer": "ipython3",
   "version": "3.8.16"
  }
 },
 "nbformat": 4,
 "nbformat_minor": 5
}
